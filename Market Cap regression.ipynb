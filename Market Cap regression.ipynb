{
 "cells": [
  {
   "cell_type": "code",
   "execution_count": 26,
   "metadata": {},
   "outputs": [],
   "source": [
    "category = \"LINK\""
   ]
  },
  {
   "cell_type": "code",
   "execution_count": 27,
   "metadata": {},
   "outputs": [],
   "source": [
    "file_1 = \"_rawdata.txt\"\n",
    "file_2 = \"_price.txt\"\n",
    "file_3 = \"_transfer.txt\"\n",
    "file_4 = \"_account_distribution_count_1.txt\"\n",
    "file_5 = \"_account_distribution_sum_1.txt\"\n",
    "file_6 = \"_account_stats.txt\""
   ]
  },
  {
   "cell_type": "code",
   "execution_count": 28,
   "metadata": {},
   "outputs": [],
   "source": [
    "file_path = category + file_1"
   ]
  },
  {
   "cell_type": "code",
   "execution_count": 29,
   "metadata": {},
   "outputs": [],
   "source": [
    "import pandas as pd\n",
    "\n",
    "data = pd.read_csv(file_path, sep=\"\\t\", header=None)\n",
    "data.columns = [\"TXID\", \"Date\", \"Unix Timestamp\", \"From Address\", \"To Address\", \"Amount\"]\n",
    "data['Unix Timestamp'] = pd.to_datetime(data['Unix Timestamp'], unit='s')"
   ]
  },
  {
   "cell_type": "code",
   "execution_count": 30,
   "metadata": {},
   "outputs": [],
   "source": [
    "non_zero_transfer = data[data['Amount'] > 0]"
   ]
  },
  {
   "cell_type": "code",
   "execution_count": 31,
   "metadata": {},
   "outputs": [],
   "source": [
    "DAU = non_zero_transfer[['Date', 'From Address']]\n",
    "DAU = DAU.groupby(\"Date\").size().reset_index(name='DAU')\n",
    "DAU['Date'] = pd.to_datetime(DAU['Date'])"
   ]
  },
  {
   "cell_type": "code",
   "execution_count": 32,
   "metadata": {},
   "outputs": [],
   "source": [
    "file_path_2 = category + file_2\n",
    "\n",
    "price_data = pd.read_csv(file_path_2, sep=\"\\t\", header=None)\n",
    "price_data.columns = [\"Ticker\", \"Contract_Address\", \"DateTime\", \"OPEN\", \"HIGH\", \"LOW\", \"CLOSE\", \"Volume\", \"Market cap\"]"
   ]
  },
  {
   "cell_type": "code",
   "execution_count": 33,
   "metadata": {},
   "outputs": [],
   "source": [
    "tx_count = non_zero_transfer.groupby(\"Date\").size().reset_index(name='Tx_count')\n",
    "tx_count['Date'] = pd.to_datetime(tx_count['Date'])\n",
    "tx_volume = price_data[['DateTime', 'CLOSE']]\n",
    "tx_volume = tx_volume.iloc[1:]\n",
    "tx_volume['DateTime'] = pd.to_datetime(tx_volume['DateTime'])\n",
    "tx_volume.sort_values(by='DateTime', inplace=True)\n",
    "tx_volume.columns=['Date', 'Price']\n",
    "tx_volume['Price'] = pd.to_numeric(tx_volume['Price'])"
   ]
  },
  {
   "cell_type": "code",
   "execution_count": 34,
   "metadata": {},
   "outputs": [],
   "source": [
    "target = price_data[['DateTime', 'Market cap']]\n",
    "target = target.iloc[1:]\n",
    "target['DateTime'] = pd.to_datetime(target['DateTime'])\n",
    "target.columns = ['Date', 'Market Cap']\n",
    "target['Market Cap'] = target['Market Cap'].replace('None', 0)\n",
    "target['Market Cap'] = pd.to_numeric(target['Market Cap'])"
   ]
  },
  {
   "cell_type": "code",
   "execution_count": 35,
   "metadata": {},
   "outputs": [],
   "source": [
    "price_data = price_data[['DateTime', 'Volume']]\n",
    "price_data = price_data.iloc[1:]\n",
    "price_data['DateTime'] = pd.to_datetime(price_data['DateTime'])\n",
    "price_data.sort_values(by='DateTime', inplace=True)\n",
    "price_data.columns=['Date', 'Volume']"
   ]
  },
  {
   "cell_type": "code",
   "execution_count": 36,
   "metadata": {},
   "outputs": [],
   "source": [
    "d = pd.merge(DAU, price_data, how='inner')\n",
    "d = pd.merge(d, tx_count, how='inner')\n",
    "d['Volume(Token)'] = tx_count['Tx_count'] * tx_volume['Price']\n",
    "d = pd.merge(d, tx_volume, how='inner')"
   ]
  },
  {
   "cell_type": "code",
   "execution_count": 37,
   "metadata": {},
   "outputs": [],
   "source": [
    "d.Volume = pd.to_numeric(d.Volume)\n",
    "d['Volume(Token)'] = pd.to_numeric(d['Volume(Token)'])"
   ]
  },
  {
   "cell_type": "code",
   "execution_count": 38,
   "metadata": {},
   "outputs": [],
   "source": [
    "target = pd.merge(d[['Date']], target[['Date','Market Cap']])"
   ]
  },
  {
   "cell_type": "code",
   "execution_count": 39,
   "metadata": {},
   "outputs": [
    {
     "data": {
      "text/html": [
       "<div>\n",
       "<style scoped>\n",
       "    .dataframe tbody tr th:only-of-type {\n",
       "        vertical-align: middle;\n",
       "    }\n",
       "\n",
       "    .dataframe tbody tr th {\n",
       "        vertical-align: top;\n",
       "    }\n",
       "\n",
       "    .dataframe thead th {\n",
       "        text-align: right;\n",
       "    }\n",
       "</style>\n",
       "<table border=\"1\" class=\"dataframe\">\n",
       "  <thead>\n",
       "    <tr style=\"text-align: right;\">\n",
       "      <th></th>\n",
       "      <th>DAU</th>\n",
       "      <th>Volume</th>\n",
       "      <th>Tx_count</th>\n",
       "      <th>Volume(Token)</th>\n",
       "      <th>Price</th>\n",
       "    </tr>\n",
       "  </thead>\n",
       "  <tbody>\n",
       "    <tr>\n",
       "      <th>DAU</th>\n",
       "      <td>1.000000</td>\n",
       "      <td>0.269046</td>\n",
       "      <td>1.000000</td>\n",
       "      <td>0.802533</td>\n",
       "      <td>0.047426</td>\n",
       "    </tr>\n",
       "    <tr>\n",
       "      <th>Volume</th>\n",
       "      <td>0.269046</td>\n",
       "      <td>1.000000</td>\n",
       "      <td>0.269046</td>\n",
       "      <td>0.163356</td>\n",
       "      <td>0.587997</td>\n",
       "    </tr>\n",
       "    <tr>\n",
       "      <th>Tx_count</th>\n",
       "      <td>1.000000</td>\n",
       "      <td>0.269046</td>\n",
       "      <td>1.000000</td>\n",
       "      <td>0.802533</td>\n",
       "      <td>0.047426</td>\n",
       "    </tr>\n",
       "    <tr>\n",
       "      <th>Volume(Token)</th>\n",
       "      <td>0.802533</td>\n",
       "      <td>0.163356</td>\n",
       "      <td>0.802533</td>\n",
       "      <td>1.000000</td>\n",
       "      <td>-0.029080</td>\n",
       "    </tr>\n",
       "    <tr>\n",
       "      <th>Price</th>\n",
       "      <td>0.047426</td>\n",
       "      <td>0.587997</td>\n",
       "      <td>0.047426</td>\n",
       "      <td>-0.029080</td>\n",
       "      <td>1.000000</td>\n",
       "    </tr>\n",
       "  </tbody>\n",
       "</table>\n",
       "</div>"
      ],
      "text/plain": [
       "                    DAU    Volume  Tx_count  Volume(Token)     Price\n",
       "DAU            1.000000  0.269046  1.000000       0.802533  0.047426\n",
       "Volume         0.269046  1.000000  0.269046       0.163356  0.587997\n",
       "Tx_count       1.000000  0.269046  1.000000       0.802533  0.047426\n",
       "Volume(Token)  0.802533  0.163356  0.802533       1.000000 -0.029080\n",
       "Price          0.047426  0.587997  0.047426      -0.029080  1.000000"
      ]
     },
     "execution_count": 39,
     "metadata": {},
     "output_type": "execute_result"
    }
   ],
   "source": [
    "re = d.corr(method='pearson')\n",
    "re"
   ]
  },
  {
   "cell_type": "code",
   "execution_count": 40,
   "metadata": {},
   "outputs": [],
   "source": [
    "d.fillna(0, inplace=True)"
   ]
  },
  {
   "cell_type": "code",
   "execution_count": 41,
   "metadata": {},
   "outputs": [],
   "source": [
    "from sklearn import linear_model\n",
    "from sklearn.metrics import mean_squared_error, r2_score\n",
    "x_lst = d.columns.tolist()\n",
    "x_lst.remove('Date')\n",
    "x_lst.remove('Tx_count')\n",
    "def make_result(x_lst, target_y):\n",
    "    coef_lst = []\n",
    "    score_lst = []\n",
    "    for x in x_lst:\n",
    "        X = d[x].values\n",
    "        y = target[target_y].values\n",
    "        X = X.reshape(len(X), 1)\n",
    "        y = y.reshape(len(y), 1)\n",
    "        regr = linear_model.LinearRegression()\n",
    "        regr.fit(X, y)\n",
    "        coef_lst.append(regr.coef_[0][0])\n",
    "        score_lst.append(regr.score(X, y))\n",
    "    return coef_lst, score_lst\n",
    "\n",
    "coef_lst, score_lst = make_result(x_lst, 'Market Cap')\n",
    "empty_lst = [0] * len(x_lst)\n",
    "final = pd.DataFrame({'Coef' : empty_lst, 'Score' : empty_lst})\n",
    "final['x_lst'] = x_lst\n",
    "final.Coef = coef_lst\n",
    "final.Score = score_lst\n",
    "final = final.set_index('x_lst')\n",
    "final.sort_values(by='Score', ascending=False, inplace=True)"
   ]
  },
  {
   "cell_type": "code",
   "execution_count": 42,
   "metadata": {},
   "outputs": [],
   "source": [
    "top = final[final['Score'] > 0.5]"
   ]
  },
  {
   "cell_type": "code",
   "execution_count": 43,
   "metadata": {},
   "outputs": [
    {
     "name": "stdout",
     "output_type": "stream",
     "text": [
      "This Token's linear regression has done by :  ['Price']\n",
      "Used ols regression, R score is :  0.9999999175365564\n"
     ]
    }
   ],
   "source": [
    "x_lst = ['Date']\n",
    "x_lst.extend(top.index.tolist())\n",
    "try:\n",
    "    top = d[x_lst]\n",
    "    top = top.set_index('Date')\n",
    "    X = top\n",
    "    y = target['Market Cap']\n",
    "except KeyError:\n",
    "    print(\"All features are useless to predict Market Cap (= R2 score less than 0.5)\")\n",
    "\n",
    "try:\n",
    "    if re.iloc[0][1] > 0.85:\n",
    "        from sklearn.decomposition import PCA\n",
    "        pca = PCA(n_components=1)\n",
    "        model_pca = pca.fit(top.values)\n",
    "        model_pca.transform(top.values)\n",
    "        from sklearn.cross_decomposition import PLSRegression\n",
    "        reg = PLSRegression(n_components=1)\n",
    "        reg.fit(X, y)\n",
    "        print(\"This Token's linear regression has done by : \", x_lst[1:])\n",
    "        print(\"Used pls regression, R score is : \", reg.score(X, y))\n",
    "    else:\n",
    "        from sklearn.linear_model import LinearRegression\n",
    "        reg = LinearRegression().fit(X, y)\n",
    "        print(\"This Token's linear regression has done by : \", x_lst[1:])\n",
    "        print(\"Used ols regression, R score is : \", reg.score(X, y))\n",
    "except ValueError:\n",
    "    print(\"\")"
   ]
  },
  {
   "cell_type": "markdown",
   "metadata": {},
   "source": [
    "# model = reg.predict(예측값)"
   ]
  }
 ],
 "metadata": {
  "kernelspec": {
   "display_name": "Python 3",
   "language": "python",
   "name": "python3"
  },
  "language_info": {
   "codemirror_mode": {
    "name": "ipython",
    "version": 3
   },
   "file_extension": ".py",
   "mimetype": "text/x-python",
   "name": "python",
   "nbconvert_exporter": "python",
   "pygments_lexer": "ipython3",
   "version": "3.7.1"
  }
 },
 "nbformat": 4,
 "nbformat_minor": 2
}
