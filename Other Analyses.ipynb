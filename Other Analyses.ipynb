{
 "cells": [
  {
   "cell_type": "markdown",
   "metadata": {},
   "source": [
    "# 기타 분석\n",
    "\n",
    ">* Tx 분류 - Large, Big transactions\n",
    ">* 플랫폼 공격 여부 - (0 value transactions)\n",
    ">* 휴면계정 - active한 계정이 몇 개인지, 0 balance accounts 수\n",
    ">* 부의 분배가 평등한지"
   ]
  },
  {
   "cell_type": "code",
   "execution_count": 1,
   "metadata": {},
   "outputs": [],
   "source": [
    "category = 'LINK'"
   ]
  },
  {
   "cell_type": "code",
   "execution_count": 2,
   "metadata": {},
   "outputs": [],
   "source": [
    "file_1 = \"_rawdata.txt\"\n",
    "file_2 = \"_price.txt\"\n",
    "file_3 = \"_transfer.txt\"\n",
    "file_4 = \"_account_distribution_count_1.txt\"\n",
    "file_5 = \"_account_distribution_sum_1.txt\"\n",
    "file_6 = \"_account_stats.txt\""
   ]
  },
  {
   "cell_type": "code",
   "execution_count": 3,
   "metadata": {},
   "outputs": [],
   "source": [
    "file_path = category + file_1\n",
    "file_path_2 = category + file_6"
   ]
  },
  {
   "cell_type": "code",
   "execution_count": 4,
   "metadata": {},
   "outputs": [],
   "source": [
    "import pandas as pd"
   ]
  },
  {
   "cell_type": "code",
   "execution_count": 5,
   "metadata": {},
   "outputs": [],
   "source": [
    "data = pd.read_csv(file_path, sep=\"\\t\", header=None)\n",
    "data.columns = [\"TXID\", \"Date\", \"Unix Timestamp\", \"From Address\", \"To Address\", \"Amount\"]\n",
    "data['Unix Timestamp'] = pd.to_datetime(data['Unix Timestamp'], unit='s')"
   ]
  },
  {
   "cell_type": "code",
   "execution_count": 6,
   "metadata": {},
   "outputs": [],
   "source": [
    "data2 = pd.read_csv(file_path_2, sep=\"\\t\", header=None)\n",
    "data2.columns = [\"Account\", \"Balance\", \"In_Degree\", \"Out_Degree\", \"Recent Seen (UnixTimeStamp)\"]\n",
    "data2['Recent Seen (UnixTimeStamp)'] = pd.to_datetime(data2['Recent Seen (UnixTimeStamp)'], unit='s')"
   ]
  },
  {
   "cell_type": "code",
   "execution_count": 7,
   "metadata": {},
   "outputs": [],
   "source": [
    "data2 = pd.DataFrame(data2)"
   ]
  },
  {
   "cell_type": "code",
   "execution_count": 8,
   "metadata": {},
   "outputs": [],
   "source": [
    "FromAdd = data.drop('To Address', axis=1)\n",
    "FromAdd['Amount'] *= -1\n",
    "FromAdd.rename(columns={'From Address': 'Address'}, inplace=True)"
   ]
  },
  {
   "cell_type": "code",
   "execution_count": 9,
   "metadata": {},
   "outputs": [],
   "source": [
    "ToAdd = data.drop('From Address', axis=1)\n",
    "ToAdd.rename(columns={'To Address': 'Address'}, inplace=True)"
   ]
  },
  {
   "cell_type": "code",
   "execution_count": 10,
   "metadata": {},
   "outputs": [],
   "source": [
    "output = FromAdd.append(ToAdd)"
   ]
  },
  {
   "cell_type": "code",
   "execution_count": 11,
   "metadata": {},
   "outputs": [],
   "source": [
    "result = output.groupby(['Address']).size().reset_index(name='counts')"
   ]
  },
  {
   "cell_type": "code",
   "execution_count": 12,
   "metadata": {},
   "outputs": [],
   "source": [
    "result = output.merge(result)"
   ]
  },
  {
   "cell_type": "code",
   "execution_count": 13,
   "metadata": {},
   "outputs": [],
   "source": [
    "result = result.sort_values(by=['counts'], ascending=False)"
   ]
  },
  {
   "cell_type": "markdown",
   "metadata": {},
   "source": [
    "### Transactions categorization\n",
    "\n",
    "large_transactions = transaction이 q3보다 많이 일어난 경우\n",
    "\n",
    "big_transactions = transaction의 금액이 q3보다 큰 경우"
   ]
  },
  {
   "cell_type": "code",
   "execution_count": 14,
   "metadata": {},
   "outputs": [],
   "source": [
    "large_transactions = result[result['counts'] > result.counts.quantile(0.85)]"
   ]
  },
  {
   "cell_type": "code",
   "execution_count": 15,
   "metadata": {},
   "outputs": [],
   "source": [
    "big_transactions = result[result['Amount'] > result.Amount.quantile(0.85)]"
   ]
  },
  {
   "cell_type": "code",
   "execution_count": 16,
   "metadata": {},
   "outputs": [
    {
     "name": "stdout",
     "output_type": "stream",
     "text": [
      "large transactions :  78.71 %\n",
      "big_transactions :  83.19 %\n"
     ]
    }
   ],
   "source": [
    "print(\"large transactions : \", \"%.2f\" % (len(large_transactions) / len(data2.Account) * 100) , \"%\")\n",
    "print(\"big_transactions : \", \"%.2f\" % (len(big_transactions) / len(data2.Account) * 100), \"%\")"
   ]
  },
  {
   "cell_type": "markdown",
   "metadata": {},
   "source": [
    "### Is there any unsafe transaction?"
   ]
  },
  {
   "cell_type": "code",
   "execution_count": 17,
   "metadata": {},
   "outputs": [],
   "source": [
    "division = data.groupby(['From Address', 'Date']).size().reset_index(name='Division')\n",
    "boxplot4 = division.boxplot(column='Division', showfliers=True)"
   ]
  },
  {
   "cell_type": "code",
   "execution_count": 18,
   "metadata": {},
   "outputs": [],
   "source": [
    "import numpy as np\n",
    "import pandas as pd\n",
    "outliers=[]\n",
    "def detect_outlier(data_):\n",
    "    \n",
    "    threshold = 50\n",
    "    mean_ = np.mean(data_)\n",
    "    std_ = np.std(data_)\n",
    "    \n",
    "    normalized_ = (data_ - mean_) / std_\n",
    "    outliers = normalized_[normalized_ > threshold]\n",
    "    \n",
    "    return outliers"
   ]
  },
  {
   "cell_type": "code",
   "execution_count": 19,
   "metadata": {},
   "outputs": [],
   "source": [
    "outliers = detect_outlier(division['Division']).index.tolist()"
   ]
  },
  {
   "cell_type": "code",
   "execution_count": 20,
   "metadata": {},
   "outputs": [],
   "source": [
    "columns = data.columns.tolist()\n",
    "df_ = pd.DataFrame(columns=columns)"
   ]
  },
  {
   "cell_type": "code",
   "execution_count": 21,
   "metadata": {},
   "outputs": [
    {
     "data": {
      "text/html": [
       "<div>\n",
       "<style scoped>\n",
       "    .dataframe tbody tr th:only-of-type {\n",
       "        vertical-align: middle;\n",
       "    }\n",
       "\n",
       "    .dataframe tbody tr th {\n",
       "        vertical-align: top;\n",
       "    }\n",
       "\n",
       "    .dataframe thead th {\n",
       "        text-align: right;\n",
       "    }\n",
       "</style>\n",
       "<table border=\"1\" class=\"dataframe\">\n",
       "  <thead>\n",
       "    <tr style=\"text-align: right;\">\n",
       "      <th></th>\n",
       "      <th>TXID</th>\n",
       "      <th>Date</th>\n",
       "      <th>Unix Timestamp</th>\n",
       "      <th>From Address</th>\n",
       "      <th>To Address</th>\n",
       "      <th>Amount</th>\n",
       "    </tr>\n",
       "  </thead>\n",
       "  <tbody>\n",
       "    <tr>\n",
       "      <th>77920</th>\n",
       "      <td>0x0eb9eba0bdb4fe3fcdb92678b9c5ec22b627459ef889...</td>\n",
       "      <td>2017-12-26</td>\n",
       "      <td>2017-12-26 12:21:29</td>\n",
       "      <td>0x8d12a197cb00d4747a1fe03395095ce2a5cc6819</td>\n",
       "      <td>0xa7fd6bf6c5d09ff38fdd1a6643ea1baf3b254650</td>\n",
       "      <td>0.0</td>\n",
       "    </tr>\n",
       "    <tr>\n",
       "      <th>82357</th>\n",
       "      <td>0x9f3d218825a404a17179e922e6ae460e97391e1ba608...</td>\n",
       "      <td>2018-01-04</td>\n",
       "      <td>2018-01-03 15:10:13</td>\n",
       "      <td>0x8d12a197cb00d4747a1fe03395095ce2a5cc6819</td>\n",
       "      <td>0x25f59655bf3ae6eb309c20e609d6320b10aede1b</td>\n",
       "      <td>0.0</td>\n",
       "    </tr>\n",
       "  </tbody>\n",
       "</table>\n",
       "</div>"
      ],
      "text/plain": [
       "                                                    TXID        Date  \\\n",
       "77920  0x0eb9eba0bdb4fe3fcdb92678b9c5ec22b627459ef889...  2017-12-26   \n",
       "82357  0x9f3d218825a404a17179e922e6ae460e97391e1ba608...  2018-01-04   \n",
       "\n",
       "           Unix Timestamp                                From Address  \\\n",
       "77920 2017-12-26 12:21:29  0x8d12a197cb00d4747a1fe03395095ce2a5cc6819   \n",
       "82357 2018-01-03 15:10:13  0x8d12a197cb00d4747a1fe03395095ce2a5cc6819   \n",
       "\n",
       "                                       To Address  Amount  \n",
       "77920  0xa7fd6bf6c5d09ff38fdd1a6643ea1baf3b254650     0.0  \n",
       "82357  0x25f59655bf3ae6eb309c20e609d6320b10aede1b     0.0  "
      ]
     },
     "execution_count": 21,
     "metadata": {},
     "output_type": "execute_result"
    }
   ],
   "source": [
    "for index in outliers:\n",
    "    d = data[data['From Address'] == division.iloc[index]['From Address']]\n",
    "    frames = [df_, d]\n",
    "    df_ = pd.concat(frames) \n",
    "df_[df_['Amount'] == 0]"
   ]
  },
  {
   "cell_type": "markdown",
   "metadata": {},
   "source": [
    "### Active Accounts\n",
    "\n",
    "기준 : 최근 활동이 1년 이내인 경우 Active한 계정"
   ]
  },
  {
   "cell_type": "code",
   "execution_count": 22,
   "metadata": {},
   "outputs": [
    {
     "name": "stdout",
     "output_type": "stream",
     "text": [
      "Inactive accounts : 60.28 %\n"
     ]
    }
   ],
   "source": [
    "import datetime\n",
    "Inactive = data2[data2[\"Recent Seen (UnixTimeStamp)\"] < (datetime.datetime.now() - datetime.timedelta(days=365))]\n",
    "Inactive_accounts = len(Inactive)/len(data2)*100\n",
    "print(\"Inactive accounts :\", \"%.2f\" % Inactive_accounts, \"%\")"
   ]
  },
  {
   "cell_type": "code",
   "execution_count": 23,
   "metadata": {},
   "outputs": [
    {
     "name": "stdout",
     "output_type": "stream",
     "text": [
      "Number of 0 balance accounts in inactive accounts : 53.74 %\n"
     ]
    }
   ],
   "source": [
    "zero_balance_inactive = len(Inactive[Inactive['Balance'] == 0]) / len(Inactive) * 100\n",
    "print(\"Number of 0 balance accounts in inactive accounts :\", \"%.2f\" % zero_balance_inactive, \"%\")"
   ]
  },
  {
   "cell_type": "markdown",
   "metadata": {},
   "source": [
    "### Concentration of Wealth - Gini Coefficient"
   ]
  },
  {
   "cell_type": "code",
   "execution_count": 24,
   "metadata": {},
   "outputs": [],
   "source": [
    "def gini(x, w=None):\n",
    "    # w = weight\n",
    "    import numpy as np\n",
    "    x = np.asarray(x)\n",
    "    if w is not None:\n",
    "        w = np.asarray(w)\n",
    "        sorted_indices = np.argsort(x)\n",
    "        sorted_x = x[sorted_indices]\n",
    "        sorted_w = w[sorted_indices]\n",
    "        # Force float dtype to avoid overflows\n",
    "        cumw = np.cumsum(sorted_w, dtype=float)\n",
    "        cumxw = np.cumsum(sorted_x * sorted_w, dtype=float)\n",
    "        return (np.sum(cumxw[1:] * cumw[:-1] - cumxw[:-1] * cumw[1:]) / \n",
    "                (cumxw[-1] * cumw[-1]))\n",
    "    else:\n",
    "        sorted_x = np.sort(x)\n",
    "        n = len(x)\n",
    "        cumx = np.cumsum(sorted_x, dtype=float)\n",
    "        # The above formula, with all weights equal to 1 simplifies to:\n",
    "        return (n + 1 - 2 * np.sum(cumx) / cumx[-1]) / n"
   ]
  },
  {
   "cell_type": "code",
   "execution_count": 25,
   "metadata": {},
   "outputs": [
    {
     "data": {
      "text/plain": [
       "0.9897280438998994"
      ]
     },
     "execution_count": 25,
     "metadata": {},
     "output_type": "execute_result"
    }
   ],
   "source": [
    "gini(data2['Balance'])"
   ]
  },
  {
   "cell_type": "markdown",
   "metadata": {},
   "source": [
    "### Concentration of Wealth - Visualization"
   ]
  },
  {
   "cell_type": "code",
   "execution_count": 26,
   "metadata": {},
   "outputs": [],
   "source": [
    "top_10 = data2.sort_values(by='Balance', ascending=False).iloc[0:10].Balance.sum()"
   ]
  },
  {
   "cell_type": "code",
   "execution_count": 27,
   "metadata": {},
   "outputs": [],
   "source": [
    "top_100 = data2.sort_values(by='Balance', ascending=False).iloc[10:100].Balance.sum()"
   ]
  },
  {
   "cell_type": "code",
   "execution_count": 28,
   "metadata": {},
   "outputs": [],
   "source": [
    "top_1000 = data2.sort_values(by='Balance', ascending=False).iloc[100:1000].Balance.sum()"
   ]
  },
  {
   "cell_type": "code",
   "execution_count": 29,
   "metadata": {},
   "outputs": [],
   "source": [
    "bottom = data2.sort_values(by='Balance', ascending=False).iloc[1000:].Balance.sum()"
   ]
  },
  {
   "cell_type": "code",
   "execution_count": 30,
   "metadata": {},
   "outputs": [
    {
     "name": "stdout",
     "output_type": "stream",
     "text": [
      "Requirement already satisfied: plotly in c:\\programdata\\anaconda3\\lib\\site-packages (3.5.0)\n",
      "Requirement already satisfied: six in c:\\programdata\\anaconda3\\lib\\site-packages (from plotly) (1.12.0)\n",
      "Requirement already satisfied: decorator>=4.0.6 in c:\\programdata\\anaconda3\\lib\\site-packages (from plotly) (4.3.0)\n",
      "Requirement already satisfied: requests in c:\\programdata\\anaconda3\\lib\\site-packages (from plotly) (2.21.0)\n",
      "Requirement already satisfied: retrying>=1.3.3 in c:\\programdata\\anaconda3\\lib\\site-packages (from plotly) (1.3.3)\n",
      "Requirement already satisfied: pytz in c:\\programdata\\anaconda3\\lib\\site-packages (from plotly) (2018.7)\n",
      "Requirement already satisfied: nbformat>=4.2 in c:\\programdata\\anaconda3\\lib\\site-packages (from plotly) (4.4.0)\n",
      "Requirement already satisfied: urllib3<1.25,>=1.21.1 in c:\\programdata\\anaconda3\\lib\\site-packages (from requests->plotly) (1.24.1)\n",
      "Requirement already satisfied: idna<2.9,>=2.5 in c:\\programdata\\anaconda3\\lib\\site-packages (from requests->plotly) (2.8)\n",
      "Requirement already satisfied: chardet<3.1.0,>=3.0.2 in c:\\programdata\\anaconda3\\lib\\site-packages (from requests->plotly) (3.0.4)\n",
      "Requirement already satisfied: certifi>=2017.4.17 in c:\\programdata\\anaconda3\\lib\\site-packages (from requests->plotly) (2018.11.29)\n",
      "Requirement already satisfied: ipython-genutils in c:\\programdata\\anaconda3\\lib\\site-packages (from nbformat>=4.2->plotly) (0.2.0)\n",
      "Requirement already satisfied: jsonschema!=2.5.0,>=2.4 in c:\\programdata\\anaconda3\\lib\\site-packages (from nbformat>=4.2->plotly) (2.6.0)\n",
      "Requirement already satisfied: jupyter-core in c:\\programdata\\anaconda3\\lib\\site-packages (from nbformat>=4.2->plotly) (4.4.0)\n",
      "Requirement already satisfied: traitlets>=4.1 in c:\\programdata\\anaconda3\\lib\\site-packages (from nbformat>=4.2->plotly) (4.3.2)\n"
     ]
    },
    {
     "data": {
      "text/plain": [
       "0"
      ]
     },
     "execution_count": 30,
     "metadata": {},
     "output_type": "execute_result"
    }
   ],
   "source": [
    "from pip._internal import main as pipmain\n",
    "\n",
    "pipmain(['install', 'plotly'])"
   ]
  },
  {
   "cell_type": "code",
   "execution_count": 31,
   "metadata": {},
   "outputs": [
    {
     "name": "stderr",
     "output_type": "stream",
     "text": [
      "C:\\ProgramData\\Anaconda3\\lib\\site-packages\\IPython\\core\\display.py:689: UserWarning:\n",
      "\n",
      "Consider using IPython.display.IFrame instead\n",
      "\n"
     ]
    },
    {
     "data": {
      "text/html": [
       "<iframe id=\"igraph\" scrolling=\"no\" style=\"border:none;\" seamless=\"seamless\" src=\"https://plot.ly/~Julie_heart/87.embed\" height=\"525px\" width=\"100%\"></iframe>"
      ],
      "text/plain": [
       "<plotly.tools.PlotlyDisplay object>"
      ]
     },
     "execution_count": 31,
     "metadata": {},
     "output_type": "execute_result"
    }
   ],
   "source": [
    "import plotly.plotly as py\n",
    "import plotly.graph_objs as go\n",
    "\n",
    "labels = ['top10', '10-100', '100-1k', 'bottom']\n",
    "values = [top_10, top_100, top_1000, bottom]\n",
    "colors = ['gold', 'yellowgreen', 'lightcoral', 'lightskyblue']\n",
    "\n",
    "trace = go.Pie(labels=labels, values=values,\n",
    "               hoverinfo='label+value', textinfo='percent',\n",
    "               opacity = 0.8,\n",
    "               textfont=dict(size=20),\n",
    "               marker=dict(colors=colors))\n",
    "\n",
    "\n",
    "py.iplot([trace], filename=category + \" wealth distribution\")"
   ]
  },
  {
   "cell_type": "markdown",
   "metadata": {},
   "source": [
    "### Phish, Hack\n",
    "\n",
    "Etherscan Label 이용"
   ]
  },
  {
   "cell_type": "code",
   "execution_count": 32,
   "metadata": {},
   "outputs": [],
   "source": [
    "import requests\n",
    "from bs4 import BeautifulSoup\n",
    "\n",
    "def label_lst(url):\n",
    "    response = requests.get(url)\n",
    "    html = response.text\n",
    "    soup=BeautifulSoup(html,'html.parser')\n",
    "\n",
    "    columns=soup.select('div.table-responsive > table > thead > tr > th')\n",
    "    columnlist=[]\n",
    "    for column in columns:\n",
    "        columnlist.append(column.text)\n",
    "\n",
    "    contents=soup.select('div.table-responsive > table > tbody > tr')\n",
    "    dfcontent=[]\n",
    "    alldfcontents=[]\n",
    "\n",
    "    for content in contents:\n",
    "        tds=content.find_all(\"td\")\n",
    "        for td in tds:\n",
    "            dfcontent.append(td.text)\n",
    "        alldfcontents.append(dfcontent)\n",
    "        dfcontent=[]\n",
    "    \n",
    "    df = pd.DataFrame(columns=columnlist, data=alldfcontents)\n",
    "    \n",
    "    return df"
   ]
  },
  {
   "cell_type": "code",
   "execution_count": 33,
   "metadata": {},
   "outputs": [],
   "source": [
    "url = \"https://etherscan.io/accounts/1?ps=100&l=Phish%2fHack\"\n",
    "label = label_lst(url)\n",
    "\n",
    "for number in range(2,29):\n",
    "    url = \"https://etherscan.io/accounts/\" + str(number) + \"?ps=100&l=Phish%2fHack\"\n",
    "    label1 = label_lst(url)\n",
    "    frames = [label, label1]\n",
    "    label = pd.concat(frames)"
   ]
  },
  {
   "cell_type": "code",
   "execution_count": 34,
   "metadata": {},
   "outputs": [],
   "source": [
    "label.columns = ['Index', 'Address', 'Label', 'Balance ', 'TxCount']\n",
    "del label['Index']"
   ]
  },
  {
   "cell_type": "code",
   "execution_count": 35,
   "metadata": {},
   "outputs": [],
   "source": [
    "phish = data[data['From Address'].isin(label.Address.tolist())]\n",
    "hack = data[data['To Address'].isin(label.Address.tolist())]\n",
    "frames = [phish, hack]\n",
    "phish_hack = pd.concat(frames)"
   ]
  },
  {
   "cell_type": "code",
   "execution_count": 36,
   "metadata": {},
   "outputs": [
    {
     "name": "stdout",
     "output_type": "stream",
     "text": [
      "Phish and Hack transactions : 0.05 %\n"
     ]
    }
   ],
   "source": [
    "print(\"Phish and Hack transactions :\", \"%.2f\" % (len(phish_hack) / len(data) * 100), \"%\")"
   ]
  }
 ],
 "metadata": {
  "kernelspec": {
   "display_name": "Python 3",
   "language": "python",
   "name": "python3"
  },
  "language_info": {
   "codemirror_mode": {
    "name": "ipython",
    "version": 3
   },
   "file_extension": ".py",
   "mimetype": "text/x-python",
   "name": "python",
   "nbconvert_exporter": "python",
   "pygments_lexer": "ipython3",
   "version": "3.7.1"
  }
 },
 "nbformat": 4,
 "nbformat_minor": 2
}
