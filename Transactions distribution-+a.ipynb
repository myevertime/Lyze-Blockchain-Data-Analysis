{
 "cells": [
  {
   "cell_type": "code",
   "execution_count": 1,
   "metadata": {},
   "outputs": [],
   "source": [
    "import pandas as pd"
   ]
  },
  {
   "cell_type": "code",
   "execution_count": 2,
   "metadata": {},
   "outputs": [],
   "source": [
    "data = pd.read_csv('LINK_rawdata.txt', sep=\"\\t\", header=None)\n",
    "data.columns = [\"TXID\", \"Date\", \"Unix Timestamp\", \"From Address\", \"To Address\", \"Amount\"]\n",
    "data['Unix Timestamp'] = pd.to_datetime(data['Unix Timestamp'], unit='s')"
   ]
  },
  {
   "cell_type": "code",
   "execution_count": 3,
   "metadata": {},
   "outputs": [
    {
     "data": {
      "text/html": [
       "<div>\n",
       "<style scoped>\n",
       "    .dataframe tbody tr th:only-of-type {\n",
       "        vertical-align: middle;\n",
       "    }\n",
       "\n",
       "    .dataframe tbody tr th {\n",
       "        vertical-align: top;\n",
       "    }\n",
       "\n",
       "    .dataframe thead th {\n",
       "        text-align: right;\n",
       "    }\n",
       "</style>\n",
       "<table border=\"1\" class=\"dataframe\">\n",
       "  <thead>\n",
       "    <tr style=\"text-align: right;\">\n",
       "      <th></th>\n",
       "      <th>TXID</th>\n",
       "      <th>Date</th>\n",
       "      <th>Unix Timestamp</th>\n",
       "      <th>From Address</th>\n",
       "      <th>To Address</th>\n",
       "      <th>Amount</th>\n",
       "    </tr>\n",
       "  </thead>\n",
       "  <tbody>\n",
       "    <tr>\n",
       "      <th>0</th>\n",
       "      <td>0xd2b983fb1546526f720dbd42a931f4390cbac3d741a2...</td>\n",
       "      <td>2017-09-17</td>\n",
       "      <td>2017-09-16 21:29:09</td>\n",
       "      <td>0xf55037738604fddfc4043d12f25124e94d7d1780</td>\n",
       "      <td>0xcd43a19ea5e4f9fcf229df53f86747ad2c5613be</td>\n",
       "      <td>350000000.0</td>\n",
       "    </tr>\n",
       "    <tr>\n",
       "      <th>1</th>\n",
       "      <td>0x9db683edbcc99b3b14df2e47935b68b2fdc048d5c34c...</td>\n",
       "      <td>2017-09-17</td>\n",
       "      <td>2017-09-16 21:32:59</td>\n",
       "      <td>0xf55037738604fddfc4043d12f25124e94d7d1780</td>\n",
       "      <td>0x98c63b7b319dfbdf3d811530f2ab9dfe4983af9d</td>\n",
       "      <td>350000000.0</td>\n",
       "    </tr>\n",
       "    <tr>\n",
       "      <th>2</th>\n",
       "      <td>0x392c4747ac38d2f2530dedc2b453474bb925f2cf1cb4...</td>\n",
       "      <td>2017-09-17</td>\n",
       "      <td>2017-09-16 21:38:28</td>\n",
       "      <td>0xf55037738604fddfc4043d12f25124e94d7d1780</td>\n",
       "      <td>0xe0362f7445e3203a496f6f8b3d51cbb413b69be2</td>\n",
       "      <td>50000000.0</td>\n",
       "    </tr>\n",
       "    <tr>\n",
       "      <th>3</th>\n",
       "      <td>0x3990f1705765090f6d6e1a189896b32b20f08ea014b5...</td>\n",
       "      <td>2017-09-17</td>\n",
       "      <td>2017-09-16 21:40:12</td>\n",
       "      <td>0xf55037738604fddfc4043d12f25124e94d7d1780</td>\n",
       "      <td>0x75398564ce69b7498da10a11ab06fd8ff549001c</td>\n",
       "      <td>50000000.0</td>\n",
       "    </tr>\n",
       "    <tr>\n",
       "      <th>4</th>\n",
       "      <td>0xfb321f16f08aea1d378efc8d82d26d02e5319863e9c1...</td>\n",
       "      <td>2017-09-17</td>\n",
       "      <td>2017-09-16 21:43:49</td>\n",
       "      <td>0xf55037738604fddfc4043d12f25124e94d7d1780</td>\n",
       "      <td>0x5560d001f977df5e49ead7ab0bdd437c4ee3a99e</td>\n",
       "      <td>50000000.0</td>\n",
       "    </tr>\n",
       "  </tbody>\n",
       "</table>\n",
       "</div>"
      ],
      "text/plain": [
       "                                                TXID        Date  \\\n",
       "0  0xd2b983fb1546526f720dbd42a931f4390cbac3d741a2...  2017-09-17   \n",
       "1  0x9db683edbcc99b3b14df2e47935b68b2fdc048d5c34c...  2017-09-17   \n",
       "2  0x392c4747ac38d2f2530dedc2b453474bb925f2cf1cb4...  2017-09-17   \n",
       "3  0x3990f1705765090f6d6e1a189896b32b20f08ea014b5...  2017-09-17   \n",
       "4  0xfb321f16f08aea1d378efc8d82d26d02e5319863e9c1...  2017-09-17   \n",
       "\n",
       "       Unix Timestamp                                From Address  \\\n",
       "0 2017-09-16 21:29:09  0xf55037738604fddfc4043d12f25124e94d7d1780   \n",
       "1 2017-09-16 21:32:59  0xf55037738604fddfc4043d12f25124e94d7d1780   \n",
       "2 2017-09-16 21:38:28  0xf55037738604fddfc4043d12f25124e94d7d1780   \n",
       "3 2017-09-16 21:40:12  0xf55037738604fddfc4043d12f25124e94d7d1780   \n",
       "4 2017-09-16 21:43:49  0xf55037738604fddfc4043d12f25124e94d7d1780   \n",
       "\n",
       "                                   To Address       Amount  \n",
       "0  0xcd43a19ea5e4f9fcf229df53f86747ad2c5613be  350000000.0  \n",
       "1  0x98c63b7b319dfbdf3d811530f2ab9dfe4983af9d  350000000.0  \n",
       "2  0xe0362f7445e3203a496f6f8b3d51cbb413b69be2   50000000.0  \n",
       "3  0x75398564ce69b7498da10a11ab06fd8ff549001c   50000000.0  \n",
       "4  0x5560d001f977df5e49ead7ab0bdd437c4ee3a99e   50000000.0  "
      ]
     },
     "execution_count": 3,
     "metadata": {},
     "output_type": "execute_result"
    }
   ],
   "source": [
    "data.head()"
   ]
  },
  {
   "cell_type": "code",
   "execution_count": 4,
   "metadata": {},
   "outputs": [],
   "source": [
    "data2 = pd.read_csv(\"LINK_account_stats.txt\", sep=\"\\t\", header=None)\n",
    "data2.columns = [\"Account\", \"Balance\", \"In_Degree\", \"Out_Degree\", \"Recent Seen (UnixTimeStamp)\"]\n",
    "data2['Recent Seen (UnixTimeStamp)'] = pd.to_datetime(data2['Recent Seen (UnixTimeStamp)'], unit='s')"
   ]
  },
  {
   "cell_type": "code",
   "execution_count": 5,
   "metadata": {},
   "outputs": [
    {
     "data": {
      "text/html": [
       "<div>\n",
       "<style scoped>\n",
       "    .dataframe tbody tr th:only-of-type {\n",
       "        vertical-align: middle;\n",
       "    }\n",
       "\n",
       "    .dataframe tbody tr th {\n",
       "        vertical-align: top;\n",
       "    }\n",
       "\n",
       "    .dataframe thead th {\n",
       "        text-align: right;\n",
       "    }\n",
       "</style>\n",
       "<table border=\"1\" class=\"dataframe\">\n",
       "  <thead>\n",
       "    <tr style=\"text-align: right;\">\n",
       "      <th></th>\n",
       "      <th>Account</th>\n",
       "      <th>Balance</th>\n",
       "      <th>In_Degree</th>\n",
       "      <th>Out_Degree</th>\n",
       "      <th>Recent Seen (UnixTimeStamp)</th>\n",
       "    </tr>\n",
       "  </thead>\n",
       "  <tbody>\n",
       "    <tr>\n",
       "      <th>0</th>\n",
       "      <td>0xef7a95a124001e13342e4ee6d72ba5a83296047b</td>\n",
       "      <td>0.000000</td>\n",
       "      <td>1</td>\n",
       "      <td>1</td>\n",
       "      <td>2018-11-19 22:02:08</td>\n",
       "    </tr>\n",
       "    <tr>\n",
       "      <th>1</th>\n",
       "      <td>0xcddd7af305929851670a54db6ad2796d498276f5</td>\n",
       "      <td>0.000433</td>\n",
       "      <td>3</td>\n",
       "      <td>2</td>\n",
       "      <td>2017-10-14 22:43:00</td>\n",
       "    </tr>\n",
       "    <tr>\n",
       "      <th>2</th>\n",
       "      <td>0x8b5871caadbcef81d632d41731d5b87b9c746bd5</td>\n",
       "      <td>447.000000</td>\n",
       "      <td>1</td>\n",
       "      <td>0</td>\n",
       "      <td>2018-01-05 11:46:29</td>\n",
       "    </tr>\n",
       "    <tr>\n",
       "      <th>3</th>\n",
       "      <td>0x6d0fd3708860a16fbfbff060ccbd9d34702f0cae</td>\n",
       "      <td>624.365000</td>\n",
       "      <td>1</td>\n",
       "      <td>0</td>\n",
       "      <td>2018-01-03 15:11:25</td>\n",
       "    </tr>\n",
       "    <tr>\n",
       "      <th>4</th>\n",
       "      <td>0xfde7f75f1b543097ee8622baed49fabd0a4d13ac</td>\n",
       "      <td>0.000000</td>\n",
       "      <td>1</td>\n",
       "      <td>1</td>\n",
       "      <td>2017-10-06 13:44:36</td>\n",
       "    </tr>\n",
       "  </tbody>\n",
       "</table>\n",
       "</div>"
      ],
      "text/plain": [
       "                                      Account     Balance  In_Degree  \\\n",
       "0  0xef7a95a124001e13342e4ee6d72ba5a83296047b    0.000000          1   \n",
       "1  0xcddd7af305929851670a54db6ad2796d498276f5    0.000433          3   \n",
       "2  0x8b5871caadbcef81d632d41731d5b87b9c746bd5  447.000000          1   \n",
       "3  0x6d0fd3708860a16fbfbff060ccbd9d34702f0cae  624.365000          1   \n",
       "4  0xfde7f75f1b543097ee8622baed49fabd0a4d13ac    0.000000          1   \n",
       "\n",
       "   Out_Degree Recent Seen (UnixTimeStamp)  \n",
       "0           1         2018-11-19 22:02:08  \n",
       "1           2         2017-10-14 22:43:00  \n",
       "2           0         2018-01-05 11:46:29  \n",
       "3           0         2018-01-03 15:11:25  \n",
       "4           1         2017-10-06 13:44:36  "
      ]
     },
     "execution_count": 5,
     "metadata": {},
     "output_type": "execute_result"
    }
   ],
   "source": [
    "data2.head()"
   ]
  },
  {
   "cell_type": "code",
   "execution_count": 6,
   "metadata": {},
   "outputs": [],
   "source": [
    "data2 = pd.DataFrame(data2)"
   ]
  },
  {
   "cell_type": "markdown",
   "metadata": {},
   "source": [
    "# address별로 transaction count 묶기\n",
    "기존 data에 count column만 추가"
   ]
  },
  {
   "cell_type": "code",
   "execution_count": 7,
   "metadata": {},
   "outputs": [
    {
     "data": {
      "text/html": [
       "<div>\n",
       "<style scoped>\n",
       "    .dataframe tbody tr th:only-of-type {\n",
       "        vertical-align: middle;\n",
       "    }\n",
       "\n",
       "    .dataframe tbody tr th {\n",
       "        vertical-align: top;\n",
       "    }\n",
       "\n",
       "    .dataframe thead th {\n",
       "        text-align: right;\n",
       "    }\n",
       "</style>\n",
       "<table border=\"1\" class=\"dataframe\">\n",
       "  <thead>\n",
       "    <tr style=\"text-align: right;\">\n",
       "      <th></th>\n",
       "      <th>TXID</th>\n",
       "      <th>Date</th>\n",
       "      <th>Unix Timestamp</th>\n",
       "      <th>Address</th>\n",
       "      <th>Amount</th>\n",
       "    </tr>\n",
       "  </thead>\n",
       "  <tbody>\n",
       "    <tr>\n",
       "      <th>0</th>\n",
       "      <td>0xd2b983fb1546526f720dbd42a931f4390cbac3d741a2...</td>\n",
       "      <td>2017-09-17</td>\n",
       "      <td>2017-09-16 21:29:09</td>\n",
       "      <td>0xf55037738604fddfc4043d12f25124e94d7d1780</td>\n",
       "      <td>-350000000.0</td>\n",
       "    </tr>\n",
       "    <tr>\n",
       "      <th>1</th>\n",
       "      <td>0x9db683edbcc99b3b14df2e47935b68b2fdc048d5c34c...</td>\n",
       "      <td>2017-09-17</td>\n",
       "      <td>2017-09-16 21:32:59</td>\n",
       "      <td>0xf55037738604fddfc4043d12f25124e94d7d1780</td>\n",
       "      <td>-350000000.0</td>\n",
       "    </tr>\n",
       "    <tr>\n",
       "      <th>2</th>\n",
       "      <td>0x392c4747ac38d2f2530dedc2b453474bb925f2cf1cb4...</td>\n",
       "      <td>2017-09-17</td>\n",
       "      <td>2017-09-16 21:38:28</td>\n",
       "      <td>0xf55037738604fddfc4043d12f25124e94d7d1780</td>\n",
       "      <td>-50000000.0</td>\n",
       "    </tr>\n",
       "    <tr>\n",
       "      <th>3</th>\n",
       "      <td>0x3990f1705765090f6d6e1a189896b32b20f08ea014b5...</td>\n",
       "      <td>2017-09-17</td>\n",
       "      <td>2017-09-16 21:40:12</td>\n",
       "      <td>0xf55037738604fddfc4043d12f25124e94d7d1780</td>\n",
       "      <td>-50000000.0</td>\n",
       "    </tr>\n",
       "    <tr>\n",
       "      <th>4</th>\n",
       "      <td>0xfb321f16f08aea1d378efc8d82d26d02e5319863e9c1...</td>\n",
       "      <td>2017-09-17</td>\n",
       "      <td>2017-09-16 21:43:49</td>\n",
       "      <td>0xf55037738604fddfc4043d12f25124e94d7d1780</td>\n",
       "      <td>-50000000.0</td>\n",
       "    </tr>\n",
       "  </tbody>\n",
       "</table>\n",
       "</div>"
      ],
      "text/plain": [
       "                                                TXID        Date  \\\n",
       "0  0xd2b983fb1546526f720dbd42a931f4390cbac3d741a2...  2017-09-17   \n",
       "1  0x9db683edbcc99b3b14df2e47935b68b2fdc048d5c34c...  2017-09-17   \n",
       "2  0x392c4747ac38d2f2530dedc2b453474bb925f2cf1cb4...  2017-09-17   \n",
       "3  0x3990f1705765090f6d6e1a189896b32b20f08ea014b5...  2017-09-17   \n",
       "4  0xfb321f16f08aea1d378efc8d82d26d02e5319863e9c1...  2017-09-17   \n",
       "\n",
       "       Unix Timestamp                                     Address       Amount  \n",
       "0 2017-09-16 21:29:09  0xf55037738604fddfc4043d12f25124e94d7d1780 -350000000.0  \n",
       "1 2017-09-16 21:32:59  0xf55037738604fddfc4043d12f25124e94d7d1780 -350000000.0  \n",
       "2 2017-09-16 21:38:28  0xf55037738604fddfc4043d12f25124e94d7d1780  -50000000.0  \n",
       "3 2017-09-16 21:40:12  0xf55037738604fddfc4043d12f25124e94d7d1780  -50000000.0  \n",
       "4 2017-09-16 21:43:49  0xf55037738604fddfc4043d12f25124e94d7d1780  -50000000.0  "
      ]
     },
     "execution_count": 7,
     "metadata": {},
     "output_type": "execute_result"
    }
   ],
   "source": [
    "FromAdd = data.drop('To Address', axis=1)\n",
    "FromAdd['Amount'] *= -1\n",
    "FromAdd.rename(columns={'From Address': 'Address'}, inplace=True)\n",
    "FromAdd.head()"
   ]
  },
  {
   "cell_type": "code",
   "execution_count": 8,
   "metadata": {},
   "outputs": [],
   "source": [
    "ToAdd = data.drop('From Address', axis=1)\n",
    "ToAdd.rename(columns={'To Address': 'Address'}, inplace=True)"
   ]
  },
  {
   "cell_type": "code",
   "execution_count": 9,
   "metadata": {},
   "outputs": [],
   "source": [
    "output = FromAdd.append(ToAdd)"
   ]
  },
  {
   "cell_type": "code",
   "execution_count": 10,
   "metadata": {},
   "outputs": [],
   "source": [
    "result = output.groupby(['Address']).size().reset_index(name='counts')"
   ]
  },
  {
   "cell_type": "code",
   "execution_count": 11,
   "metadata": {},
   "outputs": [],
   "source": [
    "result = output.merge(result)"
   ]
  },
  {
   "cell_type": "code",
   "execution_count": 12,
   "metadata": {},
   "outputs": [],
   "source": [
    "result = result.sort_values(by=['counts'], ascending=False)"
   ]
  },
  {
   "cell_type": "markdown",
   "metadata": {},
   "source": [
    "## Data check : 잘 합쳐졌는지"
   ]
  },
  {
   "cell_type": "markdown",
   "metadata": {},
   "source": [
    "result.isnull().values.any() # 모두 merge 잘됨"
   ]
  },
  {
   "cell_type": "markdown",
   "metadata": {},
   "source": [
    "compare_data = data2['Out_Degree'] + data2['In_Degree']\n",
    "compare_data = data2.sort_values(by='In_Degree', ascending=False)\n",
    "compare_data.rename(columns={'In_Degree': 'Degree'}, inplace=True)\n",
    "compare_data = compare_data.drop('Out_Degree', axis = 1)\n",
    "compare_data.head()"
   ]
  },
  {
   "cell_type": "markdown",
   "metadata": {},
   "source": [
    "# Data 이해하기"
   ]
  },
  {
   "cell_type": "code",
   "execution_count": 13,
   "metadata": {},
   "outputs": [
    {
     "data": {
      "text/html": [
       "<div>\n",
       "<style scoped>\n",
       "    .dataframe tbody tr th:only-of-type {\n",
       "        vertical-align: middle;\n",
       "    }\n",
       "\n",
       "    .dataframe tbody tr th {\n",
       "        vertical-align: top;\n",
       "    }\n",
       "\n",
       "    .dataframe thead th {\n",
       "        text-align: right;\n",
       "    }\n",
       "</style>\n",
       "<table border=\"1\" class=\"dataframe\">\n",
       "  <thead>\n",
       "    <tr style=\"text-align: right;\">\n",
       "      <th></th>\n",
       "      <th>TXID</th>\n",
       "      <th>Date</th>\n",
       "      <th>Unix Timestamp</th>\n",
       "      <th>Address</th>\n",
       "      <th>Amount</th>\n",
       "      <th>counts</th>\n",
       "    </tr>\n",
       "  </thead>\n",
       "  <tbody>\n",
       "    <tr>\n",
       "      <th>88829</th>\n",
       "      <td>0xbf40475b2d45e9f489c8436c2e770fcb6a57b107381f...</td>\n",
       "      <td>2017-12-10</td>\n",
       "      <td>2017-12-09 16:35:38</td>\n",
       "      <td>0x3f5ce5fbfe3e9af3971dd833d26ba9b5c936f0be</td>\n",
       "      <td>1725.834</td>\n",
       "      <td>42883</td>\n",
       "    </tr>\n",
       "    <tr>\n",
       "      <th>94148</th>\n",
       "      <td>0x6ca6b137a08a37011a1de6efc287330fec940e1a4f8e...</td>\n",
       "      <td>2018-04-02</td>\n",
       "      <td>2018-04-01 20:42:04</td>\n",
       "      <td>0x3f5ce5fbfe3e9af3971dd833d26ba9b5c936f0be</td>\n",
       "      <td>18440.000</td>\n",
       "      <td>42883</td>\n",
       "    </tr>\n",
       "    <tr>\n",
       "      <th>94162</th>\n",
       "      <td>0x1d08640795d3d983e8d040614c8cea0f5375cdc3470b...</td>\n",
       "      <td>2018-04-03</td>\n",
       "      <td>2018-04-02 19:02:35</td>\n",
       "      <td>0x3f5ce5fbfe3e9af3971dd833d26ba9b5c936f0be</td>\n",
       "      <td>1967.021</td>\n",
       "      <td>42883</td>\n",
       "    </tr>\n",
       "    <tr>\n",
       "      <th>94161</th>\n",
       "      <td>0xf7486717d117bc574bce482340a614d954485202d593...</td>\n",
       "      <td>2018-04-03</td>\n",
       "      <td>2018-04-02 17:42:34</td>\n",
       "      <td>0x3f5ce5fbfe3e9af3971dd833d26ba9b5c936f0be</td>\n",
       "      <td>3207.781</td>\n",
       "      <td>42883</td>\n",
       "    </tr>\n",
       "    <tr>\n",
       "      <th>94160</th>\n",
       "      <td>0xf5e2b301b7ca92a923b2c3d6298be094e94a6339969a...</td>\n",
       "      <td>2018-04-03</td>\n",
       "      <td>2018-04-02 16:42:07</td>\n",
       "      <td>0x3f5ce5fbfe3e9af3971dd833d26ba9b5c936f0be</td>\n",
       "      <td>10000.000</td>\n",
       "      <td>42883</td>\n",
       "    </tr>\n",
       "  </tbody>\n",
       "</table>\n",
       "</div>"
      ],
      "text/plain": [
       "                                                    TXID        Date  \\\n",
       "88829  0xbf40475b2d45e9f489c8436c2e770fcb6a57b107381f...  2017-12-10   \n",
       "94148  0x6ca6b137a08a37011a1de6efc287330fec940e1a4f8e...  2018-04-02   \n",
       "94162  0x1d08640795d3d983e8d040614c8cea0f5375cdc3470b...  2018-04-03   \n",
       "94161  0xf7486717d117bc574bce482340a614d954485202d593...  2018-04-03   \n",
       "94160  0xf5e2b301b7ca92a923b2c3d6298be094e94a6339969a...  2018-04-03   \n",
       "\n",
       "           Unix Timestamp                                     Address  \\\n",
       "88829 2017-12-09 16:35:38  0x3f5ce5fbfe3e9af3971dd833d26ba9b5c936f0be   \n",
       "94148 2018-04-01 20:42:04  0x3f5ce5fbfe3e9af3971dd833d26ba9b5c936f0be   \n",
       "94162 2018-04-02 19:02:35  0x3f5ce5fbfe3e9af3971dd833d26ba9b5c936f0be   \n",
       "94161 2018-04-02 17:42:34  0x3f5ce5fbfe3e9af3971dd833d26ba9b5c936f0be   \n",
       "94160 2018-04-02 16:42:07  0x3f5ce5fbfe3e9af3971dd833d26ba9b5c936f0be   \n",
       "\n",
       "          Amount  counts  \n",
       "88829   1725.834   42883  \n",
       "94148  18440.000   42883  \n",
       "94162   1967.021   42883  \n",
       "94161   3207.781   42883  \n",
       "94160  10000.000   42883  "
      ]
     },
     "execution_count": 13,
     "metadata": {},
     "output_type": "execute_result"
    }
   ],
   "source": [
    "result.head()"
   ]
  },
  {
   "cell_type": "code",
   "execution_count": 14,
   "metadata": {},
   "outputs": [],
   "source": [
    "boxplot = data.boxplot(column='Amount')"
   ]
  },
  {
   "cell_type": "code",
   "execution_count": 15,
   "metadata": {},
   "outputs": [
    {
     "data": {
      "image/png": "[encoded data removed]",
      "text/plain": [
       "<Figure size 432x288 with 1 Axes>"
      ]
     },
     "metadata": {
      "needs_background": "light"
     },
     "output_type": "display_data"
    }
   ],
   "source": [
    "boxplot2 = data.boxplot(column='Amount', showfliers=False) #remove outliers"
   ]
  },
  {
   "cell_type": "code",
   "execution_count": 16,
   "metadata": {},
   "outputs": [
    {
     "data": {
      "text/plain": [
       "0.25      530.459\n",
       "0.50     2610.000\n",
       "0.75    10000.000\n",
       "Name: Amount, dtype: float64"
      ]
     },
     "execution_count": 16,
     "metadata": {},
     "output_type": "execute_result"
    }
   ],
   "source": [
    "data.Amount.quantile([0.25,0.5,0.75])"
   ]
  },
  {
   "cell_type": "code",
   "execution_count": 17,
   "metadata": {},
   "outputs": [
    {
     "data": {
      "image/png": "[encoded data removed]",
      "text/plain": [
       "<Figure size 432x288 with 1 Axes>"
      ]
     },
     "metadata": {
      "needs_background": "light"
     },
     "output_type": "display_data"
    }
   ],
   "source": [
    "boxplot3 = result.boxplot(column='counts', showfliers=False) "
   ]
  },
  {
   "cell_type": "code",
   "execution_count": 18,
   "metadata": {},
   "outputs": [
    {
     "data": {
      "text/plain": [
       "0.25       4.0\n",
       "0.50      14.0\n",
       "0.75    6004.0\n",
       "Name: counts, dtype: float64"
      ]
     },
     "execution_count": 18,
     "metadata": {},
     "output_type": "execute_result"
    }
   ],
   "source": [
    "result.counts.quantile([0.25,0.5,0.75])"
   ]
  },
  {
   "cell_type": "code",
   "execution_count": 19,
   "metadata": {},
   "outputs": [],
   "source": [
    "large_transactions = result[result['counts'] > result.counts.quantile(0.85)] #transaction이 q3보다 많이 일어난 계정"
   ]
  },
  {
   "cell_type": "code",
   "execution_count": 20,
   "metadata": {},
   "outputs": [],
   "source": [
    "big_transactions = result[result['Amount'] > result.Amount.quantile(0.85)] #transaction의 금액이 q3보다 큰 계정"
   ]
  },
  {
   "cell_type": "code",
   "execution_count": 21,
   "metadata": {},
   "outputs": [
    {
     "name": "stdout",
     "output_type": "stream",
     "text": [
      "large transactions:  42883 \n",
      "big_transactions:  45322\n"
     ]
    }
   ],
   "source": [
    "print(\"large transactions: \", len(large_transactions),\"\\nbig_transactions: \", len(big_transactions))"
   ]
  },
  {
   "cell_type": "code",
   "execution_count": 22,
   "metadata": {},
   "outputs": [
    {
     "name": "stdout",
     "output_type": "stream",
     "text": [
      "large transactions in %:  78.7132892804699 \n",
      "big_transactions in %:  83.19016152716593\n"
     ]
    }
   ],
   "source": [
    "print(\"large transactions in %: \", len(large_transactions)/ len(data2.Account)*100,\"\\nbig_transactions in %: \", len(big_transactions)/len(data2.Account)*100)"
   ]
  },
  {
   "cell_type": "markdown",
   "metadata": {},
   "source": [
    "* 휴면계정 - recent timestamp가 1년 이상 지난 것들도 있음(2017년에 멈춤) , active한 계정이 몇 개인지\n",
    "* 0 balance accounts 수\n",
    "* transactions 수가 많은지\n",
    "*  가격 변동성이 적은지\n",
    "* 부의 분배가 평등한지"
   ]
  },
  {
   "cell_type": "markdown",
   "metadata": {},
   "source": [
    "### 0 Balance"
   ]
  },
  {
   "cell_type": "code",
   "execution_count": 23,
   "metadata": {},
   "outputs": [
    {
     "name": "stdout",
     "output_type": "stream",
     "text": [
      "0 Blanace accounts in %:  48.590308370044056\n"
     ]
    }
   ],
   "source": [
    "zero_balance = len(data2[data2[\"Balance\"] == 0]) / len(data2.Account) * 100\n",
    "print(\"0 Blanace accounts in %: \", zero_balance)"
   ]
  },
  {
   "cell_type": "markdown",
   "metadata": {},
   "source": [
    "### Transferred within 24h"
   ]
  },
  {
   "cell_type": "code",
   "execution_count": 24,
   "metadata": {},
   "outputs": [
    {
     "data": {
      "text/html": [
       "<div>\n",
       "<style scoped>\n",
       "    .dataframe tbody tr th:only-of-type {\n",
       "        vertical-align: middle;\n",
       "    }\n",
       "\n",
       "    .dataframe tbody tr th {\n",
       "        vertical-align: top;\n",
       "    }\n",
       "\n",
       "    .dataframe thead th {\n",
       "        text-align: right;\n",
       "    }\n",
       "</style>\n",
       "<table border=\"1\" class=\"dataframe\">\n",
       "  <thead>\n",
       "    <tr style=\"text-align: right;\">\n",
       "      <th></th>\n",
       "      <th>TXID</th>\n",
       "      <th>Date</th>\n",
       "      <th>Unix Timestamp</th>\n",
       "      <th>From Address</th>\n",
       "      <th>To Address</th>\n",
       "      <th>Amount</th>\n",
       "    </tr>\n",
       "  </thead>\n",
       "  <tbody>\n",
       "    <tr>\n",
       "      <th>0</th>\n",
       "      <td>0xd2b983fb1546526f720dbd42a931f4390cbac3d741a2...</td>\n",
       "      <td>2017-09-17</td>\n",
       "      <td>2017-09-16 21:29:09</td>\n",
       "      <td>0xf55037738604fddfc4043d12f25124e94d7d1780</td>\n",
       "      <td>0xcd43a19ea5e4f9fcf229df53f86747ad2c5613be</td>\n",
       "      <td>350000000.0</td>\n",
       "    </tr>\n",
       "    <tr>\n",
       "      <th>1</th>\n",
       "      <td>0x9db683edbcc99b3b14df2e47935b68b2fdc048d5c34c...</td>\n",
       "      <td>2017-09-17</td>\n",
       "      <td>2017-09-16 21:32:59</td>\n",
       "      <td>0xf55037738604fddfc4043d12f25124e94d7d1780</td>\n",
       "      <td>0x98c63b7b319dfbdf3d811530f2ab9dfe4983af9d</td>\n",
       "      <td>350000000.0</td>\n",
       "    </tr>\n",
       "    <tr>\n",
       "      <th>2</th>\n",
       "      <td>0x392c4747ac38d2f2530dedc2b453474bb925f2cf1cb4...</td>\n",
       "      <td>2017-09-17</td>\n",
       "      <td>2017-09-16 21:38:28</td>\n",
       "      <td>0xf55037738604fddfc4043d12f25124e94d7d1780</td>\n",
       "      <td>0xe0362f7445e3203a496f6f8b3d51cbb413b69be2</td>\n",
       "      <td>50000000.0</td>\n",
       "    </tr>\n",
       "    <tr>\n",
       "      <th>3</th>\n",
       "      <td>0x3990f1705765090f6d6e1a189896b32b20f08ea014b5...</td>\n",
       "      <td>2017-09-17</td>\n",
       "      <td>2017-09-16 21:40:12</td>\n",
       "      <td>0xf55037738604fddfc4043d12f25124e94d7d1780</td>\n",
       "      <td>0x75398564ce69b7498da10a11ab06fd8ff549001c</td>\n",
       "      <td>50000000.0</td>\n",
       "    </tr>\n",
       "    <tr>\n",
       "      <th>4</th>\n",
       "      <td>0xfb321f16f08aea1d378efc8d82d26d02e5319863e9c1...</td>\n",
       "      <td>2017-09-17</td>\n",
       "      <td>2017-09-16 21:43:49</td>\n",
       "      <td>0xf55037738604fddfc4043d12f25124e94d7d1780</td>\n",
       "      <td>0x5560d001f977df5e49ead7ab0bdd437c4ee3a99e</td>\n",
       "      <td>50000000.0</td>\n",
       "    </tr>\n",
       "  </tbody>\n",
       "</table>\n",
       "</div>"
      ],
      "text/plain": [
       "                                                TXID        Date  \\\n",
       "0  0xd2b983fb1546526f720dbd42a931f4390cbac3d741a2...  2017-09-17   \n",
       "1  0x9db683edbcc99b3b14df2e47935b68b2fdc048d5c34c...  2017-09-17   \n",
       "2  0x392c4747ac38d2f2530dedc2b453474bb925f2cf1cb4...  2017-09-17   \n",
       "3  0x3990f1705765090f6d6e1a189896b32b20f08ea014b5...  2017-09-17   \n",
       "4  0xfb321f16f08aea1d378efc8d82d26d02e5319863e9c1...  2017-09-17   \n",
       "\n",
       "       Unix Timestamp                                From Address  \\\n",
       "0 2017-09-16 21:29:09  0xf55037738604fddfc4043d12f25124e94d7d1780   \n",
       "1 2017-09-16 21:32:59  0xf55037738604fddfc4043d12f25124e94d7d1780   \n",
       "2 2017-09-16 21:38:28  0xf55037738604fddfc4043d12f25124e94d7d1780   \n",
       "3 2017-09-16 21:40:12  0xf55037738604fddfc4043d12f25124e94d7d1780   \n",
       "4 2017-09-16 21:43:49  0xf55037738604fddfc4043d12f25124e94d7d1780   \n",
       "\n",
       "                                   To Address       Amount  \n",
       "0  0xcd43a19ea5e4f9fcf229df53f86747ad2c5613be  350000000.0  \n",
       "1  0x98c63b7b319dfbdf3d811530f2ab9dfe4983af9d  350000000.0  \n",
       "2  0xe0362f7445e3203a496f6f8b3d51cbb413b69be2   50000000.0  \n",
       "3  0x75398564ce69b7498da10a11ab06fd8ff549001c   50000000.0  \n",
       "4  0x5560d001f977df5e49ead7ab0bdd437c4ee3a99e   50000000.0  "
      ]
     },
     "execution_count": 24,
     "metadata": {},
     "output_type": "execute_result"
    }
   ],
   "source": [
    "data.sort_values(by='Unix Timestamp', inplace=True)\n",
    "data.head()"
   ]
  },
  {
   "cell_type": "code",
   "execution_count": null,
   "metadata": {},
   "outputs": [],
   "source": [
    "big_transactions_2 = data[data['Amount'] > data.Amount.quantile(0.75)]\n",
    "count = 0\n",
    "lst = []\n",
    "for index, row in big_transactions_2.iterrows():\n",
    "    index_list = data.index[data['From Address'] == row['To Address']].tolist()\n",
    "    if index_list != []:\n",
    "        d = data.iloc[index_list[0]]\n",
    "        time = d['Unix Timestamp']\n",
    "        if (time - row['Unix Timestamp']).days < 1:\n",
    "            count += 1\n",
    "            lst.append((row['From Address'], row['To Address'], row['Amount'], d['From Address'], d['To Address'], d['Amount']))"
   ]
  },
  {
   "cell_type": "markdown",
   "metadata": {},
   "source": [
    "### Any Trnasfer scheme?"
   ]
  },
  {
   "cell_type": "code",
   "execution_count": 60,
   "metadata": {},
   "outputs": [
    {
     "data": {
      "image/png": "[encoded data removed]",
      "text/plain": [
       "<Figure size 432x288 with 1 Axes>"
      ]
     },
     "metadata": {
      "needs_background": "light"
     },
     "output_type": "display_data"
    }
   ],
   "source": [
    "division = data.groupby(['From Address', 'Date']).size().reset_index(name='Division')\n",
    "boxplot4 = division.boxplot(column='Division', showfliers=True) "
   ]
  },
  {
   "cell_type": "code",
   "execution_count": 62,
   "metadata": {},
   "outputs": [
    {
     "data": {
      "text/html": [
       "<div>\n",
       "<style scoped>\n",
       "    .dataframe tbody tr th:only-of-type {\n",
       "        vertical-align: middle;\n",
       "    }\n",
       "\n",
       "    .dataframe tbody tr th {\n",
       "        vertical-align: top;\n",
       "    }\n",
       "\n",
       "    .dataframe thead th {\n",
       "        text-align: right;\n",
       "    }\n",
       "</style>\n",
       "<table border=\"1\" class=\"dataframe\">\n",
       "  <thead>\n",
       "    <tr style=\"text-align: right;\">\n",
       "      <th></th>\n",
       "      <th>From Address</th>\n",
       "      <th>Date</th>\n",
       "      <th>Division</th>\n",
       "    </tr>\n",
       "  </thead>\n",
       "  <tbody>\n",
       "    <tr>\n",
       "      <th>4138</th>\n",
       "      <td>0x0d34437b027122e75361357ffb1487c11e33c5e8</td>\n",
       "      <td>2017-09-20</td>\n",
       "      <td>2649</td>\n",
       "    </tr>\n",
       "  </tbody>\n",
       "</table>\n",
       "</div>"
      ],
      "text/plain": [
       "                                    From Address        Date  Division\n",
       "4138  0x0d34437b027122e75361357ffb1487c11e33c5e8  2017-09-20      2649"
      ]
     },
     "execution_count": 62,
     "metadata": {},
     "output_type": "execute_result"
    }
   ],
   "source": [
    "division[division['Division'] > 2500] # 공격한거같은데?"
   ]
  },
  {
   "cell_type": "markdown",
   "metadata": {},
   "source": [
    "### Active한 계정"
   ]
  },
  {
   "cell_type": "code",
   "execution_count": 26,
   "metadata": {},
   "outputs": [
    {
     "name": "stdout",
     "output_type": "stream",
     "text": [
      "Inactive accounts in % : 57.74045521292217\n"
     ]
    }
   ],
   "source": [
    "import datetime\n",
    "Inactive = data2[data2[\"Recent Seen (UnixTimeStamp)\"] < (datetime.datetime.now() - datetime.timedelta(days=365))]\n",
    "Inactive_accounts = len(Inactive)/len(data2)*100\n",
    "print(\"Inactive accounts in % :\", Inactive_accounts)"
   ]
  },
  {
   "cell_type": "code",
   "execution_count": 27,
   "metadata": {},
   "outputs": [
    {
     "name": "stdout",
     "output_type": "stream",
     "text": [
      "Number of 0 balance accounts in inactive accounts:  54.27726738086912\n"
     ]
    }
   ],
   "source": [
    "zero_balance_inactive = len(Inactive[Inactive['Balance'] == 0])/len(Inactive)*100\n",
    "print(\"Number of 0 balance accounts in inactive accounts: \", zero_balance_inactive)"
   ]
  },
  {
   "cell_type": "markdown",
   "metadata": {},
   "source": [
    "### Concentration of Wealth"
   ]
  },
  {
   "cell_type": "code",
   "execution_count": 28,
   "metadata": {},
   "outputs": [],
   "source": [
    "top_10 = data2.sort_values(by='Balance', ascending=False).iloc[0:10].Balance.sum()"
   ]
  },
  {
   "cell_type": "code",
   "execution_count": 29,
   "metadata": {},
   "outputs": [],
   "source": [
    "top_100 = data2.sort_values(by='Balance', ascending=False).iloc[10:100].Balance.sum()"
   ]
  },
  {
   "cell_type": "code",
   "execution_count": 30,
   "metadata": {},
   "outputs": [],
   "source": [
    "top_1000 = data2.sort_values(by='Balance', ascending=False).iloc[100:1000].Balance.sum()"
   ]
  },
  {
   "cell_type": "code",
   "execution_count": 31,
   "metadata": {},
   "outputs": [],
   "source": [
    "bottom = data2.sort_values(by='Balance', ascending=False).iloc[1000:].Balance.sum()"
   ]
  },
  {
   "cell_type": "code",
   "execution_count": 32,
   "metadata": {},
   "outputs": [],
   "source": [
    "import matplotlib.pyplot as plt\n",
    "from matplotlib.pyplot import figure"
   ]
  },
  {
   "cell_type": "code",
   "execution_count": 33,
   "metadata": {},
   "outputs": [
    {
     "data": {
      "image/png": "[encoded data removed]",
      "text/plain": [
       "<Figure size 640x480 with 1 Axes>"
      ]
     },
     "metadata": {},
     "output_type": "display_data"
    }
   ],
   "source": [
    "figure(num=None, figsize=(8, 6), dpi=80, facecolor='w', edgecolor='k')\n",
    "\n",
    "labels = 'top10', '10-100', '100-1k', ''\n",
    "sizes = [top_10, top_100, top_1000, bottom]\n",
    "colors = ['gold', 'yellowgreen', 'lightcoral', 'lightskyblue']\n",
    "explode = (0.1, 0, 0, 0)  # explode 1st slice\n",
    " \n",
    "# Plot\n",
    "plt.pie(sizes, explode=explode, labels=labels, colors=colors, autopct='%1.1f%%', shadow=True, startangle=140, textprops={'fontsize': 14})\n",
    "\n",
    "\n",
    "plt.axis('equal')\n",
    "plt.show()"
   ]
  },
  {
   "cell_type": "code",
   "execution_count": 34,
   "metadata": {},
   "outputs": [
    {
     "name": "stdout",
     "output_type": "stream",
     "text": [
      "Requirement already satisfied: plotly in c:\\programdata\\anaconda3\\lib\\site-packages (3.5.0)\n",
      "Requirement already satisfied: nbformat>=4.2 in c:\\programdata\\anaconda3\\lib\\site-packages (from plotly) (4.4.0)\n",
      "Requirement already satisfied: pytz in c:\\programdata\\anaconda3\\lib\\site-packages (from plotly) (2018.7)\n",
      "Requirement already satisfied: retrying>=1.3.3 in c:\\programdata\\anaconda3\\lib\\site-packages (from plotly) (1.3.3)\n",
      "Requirement already satisfied: decorator>=4.0.6 in c:\\programdata\\anaconda3\\lib\\site-packages (from plotly) (4.3.0)\n",
      "Requirement already satisfied: requests in c:\\programdata\\anaconda3\\lib\\site-packages (from plotly) (2.21.0)\n",
      "Requirement already satisfied: six in c:\\programdata\\anaconda3\\lib\\site-packages (from plotly) (1.12.0)\n",
      "Requirement already satisfied: ipython-genutils in c:\\programdata\\anaconda3\\lib\\site-packages (from nbformat>=4.2->plotly) (0.2.0)\n",
      "Requirement already satisfied: jupyter-core in c:\\programdata\\anaconda3\\lib\\site-packages (from nbformat>=4.2->plotly) (4.4.0)\n",
      "Requirement already satisfied: jsonschema!=2.5.0,>=2.4 in c:\\programdata\\anaconda3\\lib\\site-packages (from nbformat>=4.2->plotly) (2.6.0)\n",
      "Requirement already satisfied: traitlets>=4.1 in c:\\programdata\\anaconda3\\lib\\site-packages (from nbformat>=4.2->plotly) (4.3.2)\n",
      "Requirement already satisfied: urllib3<1.25,>=1.21.1 in c:\\programdata\\anaconda3\\lib\\site-packages (from requests->plotly) (1.24.1)\n",
      "Requirement already satisfied: chardet<3.1.0,>=3.0.2 in c:\\programdata\\anaconda3\\lib\\site-packages (from requests->plotly) (3.0.4)\n",
      "Requirement already satisfied: idna<2.9,>=2.5 in c:\\programdata\\anaconda3\\lib\\site-packages (from requests->plotly) (2.8)\n",
      "Requirement already satisfied: certifi>=2017.4.17 in c:\\programdata\\anaconda3\\lib\\site-packages (from requests->plotly) (2018.11.29)\n"
     ]
    },
    {
     "data": {
      "text/plain": [
       "0"
      ]
     },
     "execution_count": 34,
     "metadata": {},
     "output_type": "execute_result"
    }
   ],
   "source": [
    "from pip._internal import main as pipmain\n",
    "\n",
    "pipmain(['install', 'plotly'])"
   ]
  },
  {
   "cell_type": "code",
   "execution_count": 44,
   "metadata": {},
   "outputs": [
    {
     "data": {
      "text/html": [
       "<iframe id=\"igraph\" scrolling=\"no\" style=\"border:none;\" seamless=\"seamless\" src=\"https://plot.ly/~Julie_heart/21.embed\" height=\"525px\" width=\"100%\"></iframe>"
      ],
      "text/plain": [
       "<plotly.tools.PlotlyDisplay object>"
      ]
     },
     "execution_count": 44,
     "metadata": {},
     "output_type": "execute_result"
    }
   ],
   "source": [
    "import plotly.plotly as py\n",
    "import plotly.graph_objs as go\n",
    "\n",
    "labels = ['top10', '10-100', '100-1k', 'bottom']\n",
    "values = [top_10, top_100, top_1000, bottom]\n",
    "colors = ['gold', 'yellowgreen', 'lightcoral', 'lightskyblue']\n",
    "\n",
    "trace = go.Pie(labels=labels, values=values,\n",
    "               hoverinfo='label+value', textinfo='percent',\n",
    "               opacity = 0.8,\n",
    "               textfont=dict(size=20),\n",
    "               marker=dict(colors=colors))\n",
    "\n",
    "\n",
    "py.iplot([trace], filename='basic_pie_chart')"
   ]
  },
  {
   "cell_type": "markdown",
   "metadata": {},
   "source": [
    "### Gini Coefficient"
   ]
  },
  {
   "cell_type": "code",
   "execution_count": 2,
   "metadata": {},
   "outputs": [],
   "source": [
    "def gini(x, w=None):\n",
    "    # The rest of the code requires numpy arrays.\n",
    "    x = np.asarray(x)\n",
    "    if w is not None:\n",
    "        w = np.asarray(w)\n",
    "        sorted_indices = np.argsort(x)\n",
    "        sorted_x = x[sorted_indices]\n",
    "        sorted_w = w[sorted_indices]\n",
    "        # Force float dtype to avoid overflows\n",
    "        cumw = np.cumsum(sorted_w, dtype=float)\n",
    "        cumxw = np.cumsum(sorted_x * sorted_w, dtype=float)\n",
    "        return (np.sum(cumxw[1:] * cumw[:-1] - cumxw[:-1] * cumw[1:]) / \n",
    "                (cumxw[-1] * cumw[-1]))\n",
    "    else:\n",
    "        sorted_x = np.sort(x)\n",
    "        n = len(x)\n",
    "        cumx = np.cumsum(sorted_x, dtype=float)\n",
    "        # The above formula, with all weights equal to 1 simplifies to:\n",
    "        return (n + 1 - 2 * np.sum(cumx) / cumx[-1]) / n"
   ]
  },
  {
   "cell_type": "code",
   "execution_count": null,
   "metadata": {},
   "outputs": [],
   "source": []
  }
 ],
 "metadata": {
  "kernelspec": {
   "display_name": "Python 3",
   "language": "python",
   "name": "python3"
  },
  "language_info": {
   "codemirror_mode": {
    "name": "ipython",
    "version": 3
   },
   "file_extension": ".py",
   "mimetype": "text/x-python",
   "name": "python",
   "nbconvert_exporter": "python",
   "pygments_lexer": "ipython3",
   "version": "3.7.1"
  }
 },
 "nbformat": 4,
 "nbformat_minor": 2
}
